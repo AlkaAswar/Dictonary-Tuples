{
 "cells": [
  {
   "cell_type": "markdown",
   "id": "db0d950f",
   "metadata": {},
   "source": [
    "# Dictonary"
   ]
  },
  {
   "cell_type": "code",
   "execution_count": 9,
   "id": "c4c3cb8d",
   "metadata": {},
   "outputs": [
    {
     "data": {
      "text/plain": [
       "{'tom': 98777, 'rob': 7483, 'joe': 7373}"
      ]
     },
     "execution_count": 9,
     "metadata": {},
     "output_type": "execute_result"
    }
   ],
   "source": [
    "d={\"tom\":98777,\"rob\":7483,\"joe\":7373}\n",
    "d"
   ]
  },
  {
   "cell_type": "code",
   "execution_count": 10,
   "id": "2f410d59",
   "metadata": {},
   "outputs": [
    {
     "data": {
      "text/plain": [
       "98777"
      ]
     },
     "execution_count": 10,
     "metadata": {},
     "output_type": "execute_result"
    }
   ],
   "source": [
    "d[\"tom\"]"
   ]
  },
  {
   "cell_type": "code",
   "execution_count": 11,
   "id": "c2733d9e",
   "metadata": {},
   "outputs": [],
   "source": [
    "d[\"sam\"]=98989"
   ]
  },
  {
   "cell_type": "code",
   "execution_count": 12,
   "id": "1723c160",
   "metadata": {},
   "outputs": [
    {
     "data": {
      "text/plain": [
       "{'tom': 98777, 'rob': 7483, 'joe': 7373, 'sam': 98989}"
      ]
     },
     "execution_count": 12,
     "metadata": {},
     "output_type": "execute_result"
    }
   ],
   "source": [
    "d"
   ]
  },
  {
   "cell_type": "code",
   "execution_count": 13,
   "id": "65ce3337",
   "metadata": {},
   "outputs": [],
   "source": [
    "del d[\"sam\"]"
   ]
  },
  {
   "cell_type": "code",
   "execution_count": 14,
   "id": "f2e5980b",
   "metadata": {},
   "outputs": [
    {
     "data": {
      "text/plain": [
       "{'tom': 98777, 'rob': 7483, 'joe': 7373}"
      ]
     },
     "execution_count": 14,
     "metadata": {},
     "output_type": "execute_result"
    }
   ],
   "source": [
    "d"
   ]
  },
  {
   "cell_type": "code",
   "execution_count": 15,
   "id": "e2abe376",
   "metadata": {},
   "outputs": [
    {
     "name": "stdout",
     "output_type": "stream",
     "text": [
      "key: tom value: 98777\n",
      "key: rob value: 7483\n",
      "key: joe value: 7373\n"
     ]
    }
   ],
   "source": [
    "for key in d:\n",
    "    print(\"key:\",key,\"value:\",d[key])"
   ]
  },
  {
   "cell_type": "markdown",
   "id": "99a50397",
   "metadata": {},
   "source": [
    "# Tuples"
   ]
  },
  {
   "cell_type": "code",
   "execution_count": 16,
   "id": "9048f47f",
   "metadata": {},
   "outputs": [
    {
     "data": {
      "text/plain": [
       "1"
      ]
     },
     "execution_count": 16,
     "metadata": {},
     "output_type": "execute_result"
    }
   ],
   "source": [
    "a=(1,3,2)\n",
    "a[0]"
   ]
  },
  {
   "cell_type": "code",
   "execution_count": null,
   "id": "6136f512",
   "metadata": {},
   "outputs": [],
   "source": []
  }
 ],
 "metadata": {
  "kernelspec": {
   "display_name": "Python 3 (ipykernel)",
   "language": "python",
   "name": "python3"
  },
  "language_info": {
   "codemirror_mode": {
    "name": "ipython",
    "version": 3
   },
   "file_extension": ".py",
   "mimetype": "text/x-python",
   "name": "python",
   "nbconvert_exporter": "python",
   "pygments_lexer": "ipython3",
   "version": "3.9.7"
  }
 },
 "nbformat": 4,
 "nbformat_minor": 5
}
